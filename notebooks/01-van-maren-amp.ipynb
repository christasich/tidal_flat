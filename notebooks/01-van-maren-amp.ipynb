version https://git-lfs.github.com/spec/v1
oid sha256:1670a25de1642917ada9e7b2d49ef7535e95db080bdbcd65ec3dc48ce7f67a17
size 2382737
