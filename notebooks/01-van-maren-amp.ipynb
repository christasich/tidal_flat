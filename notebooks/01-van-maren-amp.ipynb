version https://git-lfs.github.com/spec/v1
oid sha256:eecf40d84d41b667d65e729da87e2fed0329c50acaf9ec5f5cfde783d93fa559
size 2387657
