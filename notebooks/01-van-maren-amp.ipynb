version https://git-lfs.github.com/spec/v1
oid sha256:0cadd2d9c38c6ea4279b9d6a4a6d274352cb1ec9e43deeb6ae899c1afed2a082
size 19976
