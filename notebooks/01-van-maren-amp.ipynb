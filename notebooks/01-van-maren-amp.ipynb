version https://git-lfs.github.com/spec/v1
oid sha256:54db7e3666d985463990f9d0eddf153cc25a5b5835bddfa3bb6b52e3595cd6b5
size 2382737
