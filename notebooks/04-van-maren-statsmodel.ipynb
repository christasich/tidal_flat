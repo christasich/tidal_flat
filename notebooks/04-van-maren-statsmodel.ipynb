version https://git-lfs.github.com/spec/v1
oid sha256:d68cf2c9e4b7d70da3684eef98dadd1a55c7da05ce0ada01b6c7a0962b944479
size 1495826
