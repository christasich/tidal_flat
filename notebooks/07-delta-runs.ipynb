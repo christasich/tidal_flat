version https://git-lfs.github.com/spec/v1
oid sha256:6f4a1deb987eef8ad6d0b21e6ea1269d45951d8313bd4e82a9a8618f56c7bb2c
size 1669245
