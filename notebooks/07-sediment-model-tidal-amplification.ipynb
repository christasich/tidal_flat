version https://git-lfs.github.com/spec/v1
oid sha256:4da23145adb407ecff78fc2f9da239e7efc3c45a3f977bdf06cb0d30e3cd4b10
size 24456
