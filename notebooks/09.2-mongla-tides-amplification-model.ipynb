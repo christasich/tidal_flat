version https://git-lfs.github.com/spec/v1
oid sha256:e21dcbe486d6f8ae1d3d99d5e2e7c26d9bc555dbc434e454897479c0bde81a7a
size 814943
