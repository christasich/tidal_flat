version https://git-lfs.github.com/spec/v1
oid sha256:86e9aeb0cd230ae4ec00d74ffba9e117ae436ce1710028c35c9ade2f42092e0c
size 311452
