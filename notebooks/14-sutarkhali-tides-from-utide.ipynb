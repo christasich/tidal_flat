version https://git-lfs.github.com/spec/v1
oid sha256:ffd3a65d24c1c9a3f7327d81ddaf73c00b363993eb2c6c4cedfbb667eeea1d7b
size 3975190
