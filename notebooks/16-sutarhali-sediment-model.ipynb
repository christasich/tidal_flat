version https://git-lfs.github.com/spec/v1
oid sha256:cee80e64817fe34f91926b1013a640c708c7ceb06feb1253920ca2e3a1fe5385
size 277480
