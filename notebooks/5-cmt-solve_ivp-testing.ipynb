version https://git-lfs.github.com/spec/v1
oid sha256:62694dd87c0940468db56eb3f0ff63db09288a6b8eb3aecdbf017b72c067cc19
size 16603
