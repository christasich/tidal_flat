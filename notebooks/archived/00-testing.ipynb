version https://git-lfs.github.com/spec/v1
oid sha256:2aaa94c6f176da853e6f9bf0d97ac09d2b5ec7ec6a20e732e87939799ecc7cd7
size 6592
