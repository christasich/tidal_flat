version https://git-lfs.github.com/spec/v1
oid sha256:0bc939c17b89c558e453e6dd9c6bf38c6c0ebd4019dd5378671fc2d057ab23aa
size 2783862
