version https://git-lfs.github.com/spec/v1
oid sha256:3fdfb5a0d9eb008aa2f98e5cb8dcdb6e59a38c2cf8cb4b07efa572f44dc4e9ff
size 584428
