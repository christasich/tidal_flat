version https://git-lfs.github.com/spec/v1
oid sha256:a3d4d2de9eadd9c56c1964d8c22d4750fe690f3a7e666e5c0c89e1af3fb6b3cc
size 24750
