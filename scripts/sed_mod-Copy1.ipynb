version https://git-lfs.github.com/spec/v1
oid sha256:ce70e6714cbc9f6f4ee5baca79ed50f73139fd4060ff2eac708b4a7ccdbde000
size 822561
